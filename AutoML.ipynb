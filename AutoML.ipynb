{
 "cells": [
  {
   "cell_type": "code",
   "execution_count": 1,
   "id": "killing-stations",
   "metadata": {},
   "outputs": [],
   "source": [
    "from autoML.AutoML import AutoML"
   ]
  },
  {
   "cell_type": "code",
   "execution_count": 2,
   "id": "particular-girlfriend",
   "metadata": {},
   "outputs": [
    {
     "name": "stdout",
     "output_type": "stream",
     "text": [
      "hyperparam_list: [10, 11]\n",
      "hyperparam_list: ['entropy']\n",
      "hyperparam_list: 0.9\n",
      "[{'name': 'RandomForestClassifier', 'type': 'opt', 'params': {'n_estimators': [10, 11], 'criterion': ['entropy']}}, {'name': 'SVM', 'type': 'params', 'params': {'C': 0.9}}]\n"
     ]
    }
   ],
   "source": [
    "auto_ml = AutoML('teste.json')"
   ]
  },
  {
   "cell_type": "code",
   "execution_count": 3,
   "id": "intellectual-offset",
   "metadata": {},
   "outputs": [
    {
     "name": "stdout",
     "output_type": "stream",
     "text": [
      "Featurizing datapoint 0\n",
      "Featurizing datapoint 1000\n",
      "Featurizing datapoint 2000\n",
      "Featurizing datapoint 3000\n",
      "Featurizing datapoint 4000\n",
      "Featurizing datapoint 5000\n",
      "Featurizing datapoint 6000\n",
      "Featurizing datapoint 7000\n"
     ]
    },
    {
     "name": "stderr",
     "output_type": "stream",
     "text": [
      "RDKit ERROR: [19:55:28] Explicit valence for atom # 3 B, 4, is greater than permitted\n",
      "RDKit ERROR: [19:55:28] Explicit valence for atom # 1 Cl, 9, is greater than permitted\n"
     ]
    },
    {
     "name": "stdout",
     "output_type": "stream",
     "text": [
      "error in smile: OB1O[B]2(O)OB(O)O[B](O)(O1)O2\n",
      "error in smile: O=[Cl-](=O)(=O)=O\n",
      "Featurizing datapoint 8000\n",
      "Featurizing datapoint 9000\n",
      "Featurizing datapoint 10000\n",
      "Featurizing datapoint 11000\n",
      "Featurizing datapoint 12000\n",
      "Featurizing datapoint 13000\n",
      "Featurizing datapoint 14000\n"
     ]
    },
    {
     "name": "stderr",
     "output_type": "stream",
     "text": [
      "RDKit ERROR: [19:55:52] Explicit valence for atom # 0 P, 11, is greater than permitted\n"
     ]
    },
    {
     "name": "stdout",
     "output_type": "stream",
     "text": [
      "error in smile: [P](OCC=C(C)C)(OCC=C(C)C)(=O)(OP(OCC=C(C)C)(OCC=C(C)C)=O)(CC=C(C)C)(CC=C(C)C)(CC=C(C)C)(CC=C(C)C)(CC=C(C)C)CC=C(C)C\n",
      "Featurizing datapoint 15000\n",
      "Featurizing datapoint 16000\n",
      "Featurizing datapoint 17000\n",
      "Featurizing datapoint 18000\n",
      "Featurizing datapoint 19000\n",
      "Featurizing datapoint 20000\n",
      "Featurizing datapoint 21000\n",
      "Featurizing datapoint 22000\n",
      "Featurizing datapoint 23000\n",
      "Elements with indexes:  [7708, 7709, 14244]  were removed due to the presence of NAs!\n",
      "The elements in question are:  ['OB1O[B]2(O)OB(O)O[B](O)(O1)O2' 'O=[Cl-](=O)(=O)=O'\n",
      " '[P](OCC=C(C)C)(OCC=C(C)C)(=O)(OP(OCC=C(C)C)(OCC=C(C)C)=O)(CC=C(C)C)(CC=C(C)C)(CC=C(C)C)(CC=C(C)C)(CC=C(C)C)CC=C(C)C']\n",
      "Mols_shape:  23287\n",
      "Features_shape:  (23287, 512)\n",
      "Labels_shape:  (23287,)\n",
      "None\n",
      "Fitting 2 random models from a space of 2 possible models.\n",
      "Fitting model 1/2\n",
      "hyperparameters: {'n_estimators': 10, 'criterion': 'entropy'}\n",
      "roc_auc_score: \n",
      " 0.6172341237658598\n",
      "Model 1/2, Metric roc_auc_score, Validation set 1: 0.617234\n",
      "\tbest_validation_score so far: 0.617234\n",
      "Fitting model 2/2\n",
      "hyperparameters: {'n_estimators': 11, 'criterion': 'entropy'}\n",
      "roc_auc_score: \n",
      " 0.6168126097602563\n",
      "Model 2/2, Metric roc_auc_score, Validation set 2: 0.616813\n",
      "\tbest_validation_score so far: 0.617234\n",
      "roc_auc_score: \n",
      " 0.9827542115033545\n",
      "Best hyperparameters: (10, 'entropy')\n",
      "train_score: 0.982754\n",
      "validation_score: 0.617234\n",
      "[SklearnModel(model=SVC(C=0.9), model_dir='/tmp/tmpwz_l89pu'), SklearnModel(model=RandomForestClassifier(criterion='entropy', n_estimators=10),\n",
      "             model_dir='/tmp/tmpwdjjrox2')]\n",
      "roc_auc_score: \n",
      " 0.5874524714828897\n",
      "precision_score: \n",
      " 1.0\n",
      "accuracy_score: \n",
      " 0.9533934707903781\n",
      "{'roc_auc_score': 0.5874524714828897, 'precision_score': 1.0, 'accuracy_score': 0.9533934707903781}\n",
      "roc_auc_score: \n",
      " 0.6464341386530074\n",
      "precision_score: \n",
      " 0.7053571428571429\n",
      "accuracy_score: \n",
      " 0.9533934707903781\n",
      "{'roc_auc_score': 0.6464341386530074, 'precision_score': 0.7053571428571429, 'accuracy_score': 0.9533934707903781}\n"
     ]
    }
   ],
   "source": [
    "auto_ml.execute()"
   ]
  },
  {
   "cell_type": "code",
   "execution_count": null,
   "id": "dressed-popularity",
   "metadata": {},
   "outputs": [],
   "source": []
  },
  {
   "cell_type": "code",
   "execution_count": null,
   "id": "lonely-taiwan",
   "metadata": {},
   "outputs": [],
   "source": []
  }
 ],
 "metadata": {
  "kernelspec": {
   "display_name": "Python 3",
   "language": "python",
   "name": "python3"
  },
  "language_info": {
   "codemirror_mode": {
    "name": "ipython",
    "version": 3
   },
   "file_extension": ".py",
   "mimetype": "text/x-python",
   "name": "python",
   "nbconvert_exporter": "python",
   "pygments_lexer": "ipython3",
   "version": "3.7.10"
  }
 },
 "nbformat": 4,
 "nbformat_minor": 5
}
